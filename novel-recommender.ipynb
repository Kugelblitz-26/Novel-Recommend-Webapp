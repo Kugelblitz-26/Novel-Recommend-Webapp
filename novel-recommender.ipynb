{
 "cells": [
  {
   "cell_type": "code",
   "execution_count": 1,
   "id": "f3491549",
   "metadata": {
    "execution": {
     "iopub.execute_input": "2023-11-02T19:21:16.560987Z",
     "iopub.status.busy": "2023-11-02T19:21:16.560446Z",
     "iopub.status.idle": "2023-11-02T19:21:19.496914Z",
     "shell.execute_reply": "2023-11-02T19:21:19.495344Z"
    },
    "id": "57pBl_XvYvoj",
    "papermill": {
     "duration": 2.951276,
     "end_time": "2023-11-02T19:21:19.500363",
     "exception": false,
     "start_time": "2023-11-02T19:21:16.549087",
     "status": "completed"
    },
    "tags": []
   },
   "outputs": [],
   "source": [
    "import pandas as pd\n",
    "import numpy as np\n",
    "import matplotlib.pyplot as plt\n",
    "import seaborn as sns\n",
    "from sklearn.feature_extraction.text import TfidfVectorizer\n",
    "from sklearn.metrics.pairwise import linear_kernel\n"
   ]
  },
  {
   "cell_type": "code",
   "execution_count": 2,
   "id": "6bdb2d8b",
   "metadata": {
    "execution": {
     "iopub.execute_input": "2023-11-02T19:21:19.519510Z",
     "iopub.status.busy": "2023-11-02T19:21:19.518909Z",
     "iopub.status.idle": "2023-11-02T19:21:22.892093Z",
     "shell.execute_reply": "2023-11-02T19:21:22.890139Z"
    },
    "id": "Tz5FrSqoZugM",
    "outputId": "9b27f61f-63b4-47ed-b878-60b596a283cb",
    "papermill": {
     "duration": 3.387957,
     "end_time": "2023-11-02T19:21:22.896597",
     "exception": false,
     "start_time": "2023-11-02T19:21:19.508640",
     "status": "completed"
    },
    "tags": []
   },
   "outputs": [
    {
     "data": {
      "text/plain": [
       "0      Chinese\n",
       "1     Japanese\n",
       "2      Chinese\n",
       "3      Chinese\n",
       "4      Chinese\n",
       "        ...   \n",
       "94     Chinese\n",
       "95     Chinese\n",
       "96     Chinese\n",
       "97      Korean\n",
       "98    Japanese\n",
       "Name: language, Length: 99, dtype: object"
      ]
     },
     "execution_count": 2,
     "metadata": {},
     "output_type": "execute_result"
    }
   ],
   "source": [
    "\n",
    "# Load data from a Parquet file into a DataFrame\n",
    "df = pd.read_csv('/kaggle/input/weblight-novel-dataset/wn.csv')\n",
    "df.language.head(99)"
   ]
  },
  {
   "cell_type": "code",
   "execution_count": 3,
   "id": "e6ea19c6",
   "metadata": {
    "execution": {
     "iopub.execute_input": "2023-11-02T19:21:22.916412Z",
     "iopub.status.busy": "2023-11-02T19:21:22.916017Z",
     "iopub.status.idle": "2023-11-02T19:21:22.993903Z",
     "shell.execute_reply": "2023-11-02T19:21:22.991404Z"
    },
    "id": "FQEPS95RZ6AP",
    "outputId": "4d0bc173-87e8-4aca-a933-5d89fc6e2f86",
    "papermill": {
     "duration": 0.091448,
     "end_time": "2023-11-02T19:21:22.997244",
     "exception": false,
     "start_time": "2023-11-02T19:21:22.905796",
     "status": "completed"
    },
    "tags": []
   },
   "outputs": [
    {
     "name": "stdout",
     "output_type": "stream",
     "text": [
      "<class 'pandas.core.frame.DataFrame'>\n",
      "RangeIndex: 11770 entries, 0 to 11769\n",
      "Data columns (total 30 columns):\n",
      " #   Column                      Non-Null Count  Dtype \n",
      "---  ------                      --------------  ----- \n",
      " 0   novel_id                    11770 non-null  int64 \n",
      " 1   url                         11770 non-null  object\n",
      " 2   title                       11770 non-null  object\n",
      " 3   associated_names            11770 non-null  object\n",
      " 4   img_url                     11770 non-null  object\n",
      " 5   showtype                    11700 non-null  object\n",
      " 6   genres                      11770 non-null  object\n",
      " 7   tags                        11770 non-null  object\n",
      " 8   description                 11766 non-null  object\n",
      " 9   related_series              11770 non-null  object\n",
      " 10  recommendations             11770 non-null  object\n",
      " 11  recommendation_lists        11770 non-null  object\n",
      " 12  rating                      11770 non-null  object\n",
      " 13  language                    11723 non-null  object\n",
      " 14  authors                     11770 non-null  object\n",
      " 15  artists                     11770 non-null  object\n",
      " 16  year                        10197 non-null  object\n",
      " 17  status_coo                  11354 non-null  object\n",
      " 18  licensed                    5586 non-null   object\n",
      " 19  translated                  11770 non-null  object\n",
      " 20  publishers                  11770 non-null  object\n",
      " 21  en_pubs                     11770 non-null  object\n",
      " 22  release_frequency           11769 non-null  object\n",
      " 23  weekly_rank                 11770 non-null  object\n",
      " 24  monthly_rank                11770 non-null  object\n",
      " 25  all_time_rank               11770 non-null  object\n",
      " 26  monthly_rank_reading_list   11770 non-null  object\n",
      " 27  all_time_rank_reading_list  11770 non-null  object\n",
      " 28  total_reading_list_rank     11770 non-null  int64 \n",
      " 29  chapters                    11770 non-null  object\n",
      "dtypes: int64(2), object(28)\n",
      "memory usage: 2.7+ MB\n"
     ]
    }
   ],
   "source": [
    "df.info()"
   ]
  },
  {
   "cell_type": "code",
   "execution_count": 4,
   "id": "5f72496a",
   "metadata": {
    "execution": {
     "iopub.execute_input": "2023-11-02T19:21:23.016788Z",
     "iopub.status.busy": "2023-11-02T19:21:23.016281Z",
     "iopub.status.idle": "2023-11-02T19:21:23.024676Z",
     "shell.execute_reply": "2023-11-02T19:21:23.023429Z"
    },
    "id": "ZzyrpH0MaArA",
    "outputId": "71b3c4e7-f07e-47e5-f173-f951fda83350",
    "papermill": {
     "duration": 0.021322,
     "end_time": "2023-11-02T19:21:23.027114",
     "exception": false,
     "start_time": "2023-11-02T19:21:23.005792",
     "status": "completed"
    },
    "tags": []
   },
   "outputs": [
    {
     "data": {
      "text/plain": [
       "array(['novel_id', 'url', 'title', 'associated_names', 'img_url',\n",
       "       'showtype', 'genres', 'tags', 'description', 'related_series',\n",
       "       'recommendations', 'recommendation_lists', 'rating', 'language',\n",
       "       'authors', 'artists', 'year', 'status_coo', 'licensed',\n",
       "       'translated', 'publishers', 'en_pubs', 'release_frequency',\n",
       "       'weekly_rank', 'monthly_rank', 'all_time_rank',\n",
       "       'monthly_rank_reading_list', 'all_time_rank_reading_list',\n",
       "       'total_reading_list_rank', 'chapters'], dtype=object)"
      ]
     },
     "execution_count": 4,
     "metadata": {},
     "output_type": "execute_result"
    }
   ],
   "source": [
    "df.columns.values"
   ]
  },
  {
   "cell_type": "code",
   "execution_count": 5,
   "id": "c02aab67",
   "metadata": {
    "execution": {
     "iopub.execute_input": "2023-11-02T19:21:23.047062Z",
     "iopub.status.busy": "2023-11-02T19:21:23.046637Z",
     "iopub.status.idle": "2023-11-02T19:21:23.064690Z",
     "shell.execute_reply": "2023-11-02T19:21:23.063507Z"
    },
    "id": "Z0JiHRghaiIC",
    "papermill": {
     "duration": 0.032454,
     "end_time": "2023-11-02T19:21:23.067788",
     "exception": false,
     "start_time": "2023-11-02T19:21:23.035334",
     "status": "completed"
    },
    "tags": []
   },
   "outputs": [],
   "source": [
    "columns_to_remove = ['url', 'associated_names', 'img_url', 'artists', 'licensed', 'translated', 'publishers', 'en_pubs', 'release_frequency', 'chapters']\n",
    "\n",
    "df = df.drop(columns=columns_to_remove)\n"
   ]
  },
  {
   "cell_type": "code",
   "execution_count": 6,
   "id": "4d2f01ef",
   "metadata": {
    "execution": {
     "iopub.execute_input": "2023-11-02T19:21:23.088022Z",
     "iopub.status.busy": "2023-11-02T19:21:23.087616Z",
     "iopub.status.idle": "2023-11-02T19:21:23.118153Z",
     "shell.execute_reply": "2023-11-02T19:21:23.116269Z"
    },
    "id": "srLlEJQwwckd",
    "outputId": "d3253a4c-9cbe-470e-bd12-c48dca6961c9",
    "papermill": {
     "duration": 0.044486,
     "end_time": "2023-11-02T19:21:23.121445",
     "exception": false,
     "start_time": "2023-11-02T19:21:23.076959",
     "status": "completed"
    },
    "tags": []
   },
   "outputs": [
    {
     "data": {
      "text/html": [
       "<div>\n",
       "<style scoped>\n",
       "    .dataframe tbody tr th:only-of-type {\n",
       "        vertical-align: middle;\n",
       "    }\n",
       "\n",
       "    .dataframe tbody tr th {\n",
       "        vertical-align: top;\n",
       "    }\n",
       "\n",
       "    .dataframe thead th {\n",
       "        text-align: right;\n",
       "    }\n",
       "</style>\n",
       "<table border=\"1\" class=\"dataframe\">\n",
       "  <thead>\n",
       "    <tr style=\"text-align: right;\">\n",
       "      <th></th>\n",
       "      <th>novel_id</th>\n",
       "      <th>title</th>\n",
       "      <th>showtype</th>\n",
       "      <th>genres</th>\n",
       "      <th>tags</th>\n",
       "      <th>description</th>\n",
       "      <th>related_series</th>\n",
       "      <th>recommendations</th>\n",
       "      <th>recommendation_lists</th>\n",
       "      <th>rating</th>\n",
       "      <th>language</th>\n",
       "      <th>authors</th>\n",
       "      <th>year</th>\n",
       "      <th>status_coo</th>\n",
       "      <th>weekly_rank</th>\n",
       "      <th>monthly_rank</th>\n",
       "      <th>all_time_rank</th>\n",
       "      <th>monthly_rank_reading_list</th>\n",
       "      <th>all_time_rank_reading_list</th>\n",
       "      <th>total_reading_list_rank</th>\n",
       "    </tr>\n",
       "  </thead>\n",
       "  <tbody>\n",
       "    <tr>\n",
       "      <th>0</th>\n",
       "      <td>64494</td>\n",
       "      <td>After the Breakup, I Went Viral in the Enterta...</td>\n",
       "      <td>Web Novel (CN)</td>\n",
       "      <td>['Drama' 'Fantasy' 'Romance' 'Supernatural']</td>\n",
       "      <td>['Amnesia' 'Beautiful Female Lead' 'Clever Pro...</td>\n",
       "      <td>Luo Ning was a cannon fodder, a female support...</td>\n",
       "      <td>{'related_series': array([], dtype=object), 't...</td>\n",
       "      <td>{'recomendations': array([], dtype=object), 't...</td>\n",
       "      <td>{'list': array([{'title': \"Cross' Library (2)\"...</td>\n",
       "      <td>(3.3 / 5.0, 4 votes)</td>\n",
       "      <td>Chinese</td>\n",
       "      <td>['Lan Bai Ge Zi' '蓝白格子']</td>\n",
       "      <td>2020</td>\n",
       "      <td>Complete (722 chapters; 506 main, rest side st...</td>\n",
       "      <td>#683</td>\n",
       "      <td>#513</td>\n",
       "      <td>#11853</td>\n",
       "      <td>#2628</td>\n",
       "      <td>#12694</td>\n",
       "      <td>225</td>\n",
       "    </tr>\n",
       "    <tr>\n",
       "      <th>1</th>\n",
       "      <td>43962</td>\n",
       "      <td>Mahou Sekai no Monogatari</td>\n",
       "      <td>Web Novel (JP)</td>\n",
       "      <td>['Fantasy' 'Romance' 'Shoujo']</td>\n",
       "      <td>['Adventurers' 'Elemental Magic' 'Familiars' '...</td>\n",
       "      <td>A world where magic exists.\\nThis is the story...</td>\n",
       "      <td>{'related_series': array([{'title': 'I Want to...</td>\n",
       "      <td>{'recomendations': array([], dtype=object), 't...</td>\n",
       "      <td>{'list': array([], dtype=object), 'total': 0}</td>\n",
       "      <td>(4.0 / 5.0, 4 votes)</td>\n",
       "      <td>Japanese</td>\n",
       "      <td>['Mako' 'まこ']</td>\n",
       "      <td>2020</td>\n",
       "      <td>35 Chapters (Ongoing)</td>\n",
       "      <td>#2000</td>\n",
       "      <td>#2000</td>\n",
       "      <td>#15002</td>\n",
       "      <td>#13957</td>\n",
       "      <td>#13903</td>\n",
       "      <td>151</td>\n",
       "    </tr>\n",
       "    <tr>\n",
       "      <th>2</th>\n",
       "      <td>25506</td>\n",
       "      <td>I am a Good Man</td>\n",
       "      <td>Web Novel (CN)</td>\n",
       "      <td>['Action' 'Adventure' 'Fantasy' 'Historical' '...</td>\n",
       "      <td>['Beautiful Female Lead' 'Businessmen' 'Childc...</td>\n",
       "      <td>To sum up in a sentence, transmigrating to dif...</td>\n",
       "      <td>{'related_series': array([], dtype=object), 't...</td>\n",
       "      <td>{'recomendations': array([{'recommended_user_c...</td>\n",
       "      <td>{'list': array([{'title': 'Male mc QT/BG- Gran...</td>\n",
       "      <td>(4.0 / 5.0, 40 votes)</td>\n",
       "      <td>Chinese</td>\n",
       "      <td>['甘米儿']</td>\n",
       "      <td>2018</td>\n",
       "      <td>603 Chapters (Completed)</td>\n",
       "      <td>#2000</td>\n",
       "      <td>#8032</td>\n",
       "      <td>#4970</td>\n",
       "      <td>#9052</td>\n",
       "      <td>#6191</td>\n",
       "      <td>1096</td>\n",
       "    </tr>\n",
       "    <tr>\n",
       "      <th>3</th>\n",
       "      <td>50373</td>\n",
       "      <td>Scum Girl Practice Manual</td>\n",
       "      <td>Web Novel (CN)</td>\n",
       "      <td>['Romance' 'School Life' 'Shoujo']</td>\n",
       "      <td>['Female Protagonist' 'Modern Day' 'Short Stor...</td>\n",
       "      <td>My goal is, to be a scum woman.\\n</td>\n",
       "      <td>{'related_series': array([], dtype=object), 't...</td>\n",
       "      <td>{'recomendations': array([{'recommended_user_c...</td>\n",
       "      <td>{'list': array([{'title': 'Beautiful reads [BG...</td>\n",
       "      <td>(2.8 / 5.0, 5 votes)</td>\n",
       "      <td>Chinese</td>\n",
       "      <td>['左乐']</td>\n",
       "      <td>2019</td>\n",
       "      <td>8 Chapters (Completed)</td>\n",
       "      <td>#2000</td>\n",
       "      <td>#2000</td>\n",
       "      <td>#14045</td>\n",
       "      <td>#13211</td>\n",
       "      <td>#14699</td>\n",
       "      <td>104</td>\n",
       "    </tr>\n",
       "    <tr>\n",
       "      <th>4</th>\n",
       "      <td>48291</td>\n",
       "      <td>Unable to Divorce After Signing the Marriage C...</td>\n",
       "      <td>Web Novel (CN)</td>\n",
       "      <td>['Psychological' 'Romance' 'Shounen Ai' 'Slice...</td>\n",
       "      <td>['Arranged Marriage' 'Calm Protagonist' 'Cold ...</td>\n",
       "      <td>Lin You He excelled in everything –  his looks...</td>\n",
       "      <td>{'related_series': array([], dtype=object), 't...</td>\n",
       "      <td>{'recomendations': array([{'recommended_user_c...</td>\n",
       "      <td>{'list': array([{'title': 'Really whipped olde...</td>\n",
       "      <td>(4.0 / 5.0, 64 votes)</td>\n",
       "      <td>Chinese</td>\n",
       "      <td>['Bai Hu Qian Deng' '百户千灯']</td>\n",
       "      <td>2019</td>\n",
       "      <td>99 Main + 12 Extras\\n111 Chapters (Completed)</td>\n",
       "      <td>#1615</td>\n",
       "      <td>#1755</td>\n",
       "      <td>#3528</td>\n",
       "      <td>#2126</td>\n",
       "      <td>#3208</td>\n",
       "      <td>2467</td>\n",
       "    </tr>\n",
       "  </tbody>\n",
       "</table>\n",
       "</div>"
      ],
      "text/plain": [
       "   novel_id                                              title  \\\n",
       "0     64494  After the Breakup, I Went Viral in the Enterta...   \n",
       "1     43962                          Mahou Sekai no Monogatari   \n",
       "2     25506                                    I am a Good Man   \n",
       "3     50373                          Scum Girl Practice Manual   \n",
       "4     48291  Unable to Divorce After Signing the Marriage C...   \n",
       "\n",
       "         showtype                                             genres  \\\n",
       "0  Web Novel (CN)       ['Drama' 'Fantasy' 'Romance' 'Supernatural']   \n",
       "1  Web Novel (JP)                     ['Fantasy' 'Romance' 'Shoujo']   \n",
       "2  Web Novel (CN)  ['Action' 'Adventure' 'Fantasy' 'Historical' '...   \n",
       "3  Web Novel (CN)                 ['Romance' 'School Life' 'Shoujo']   \n",
       "4  Web Novel (CN)  ['Psychological' 'Romance' 'Shounen Ai' 'Slice...   \n",
       "\n",
       "                                                tags  \\\n",
       "0  ['Amnesia' 'Beautiful Female Lead' 'Clever Pro...   \n",
       "1  ['Adventurers' 'Elemental Magic' 'Familiars' '...   \n",
       "2  ['Beautiful Female Lead' 'Businessmen' 'Childc...   \n",
       "3  ['Female Protagonist' 'Modern Day' 'Short Stor...   \n",
       "4  ['Arranged Marriage' 'Calm Protagonist' 'Cold ...   \n",
       "\n",
       "                                         description  \\\n",
       "0  Luo Ning was a cannon fodder, a female support...   \n",
       "1  A world where magic exists.\\nThis is the story...   \n",
       "2  To sum up in a sentence, transmigrating to dif...   \n",
       "3                  My goal is, to be a scum woman.\\n   \n",
       "4  Lin You He excelled in everything –  his looks...   \n",
       "\n",
       "                                      related_series  \\\n",
       "0  {'related_series': array([], dtype=object), 't...   \n",
       "1  {'related_series': array([{'title': 'I Want to...   \n",
       "2  {'related_series': array([], dtype=object), 't...   \n",
       "3  {'related_series': array([], dtype=object), 't...   \n",
       "4  {'related_series': array([], dtype=object), 't...   \n",
       "\n",
       "                                     recommendations  \\\n",
       "0  {'recomendations': array([], dtype=object), 't...   \n",
       "1  {'recomendations': array([], dtype=object), 't...   \n",
       "2  {'recomendations': array([{'recommended_user_c...   \n",
       "3  {'recomendations': array([{'recommended_user_c...   \n",
       "4  {'recomendations': array([{'recommended_user_c...   \n",
       "\n",
       "                                recommendation_lists                 rating  \\\n",
       "0  {'list': array([{'title': \"Cross' Library (2)\"...   (3.3 / 5.0, 4 votes)   \n",
       "1      {'list': array([], dtype=object), 'total': 0}   (4.0 / 5.0, 4 votes)   \n",
       "2  {'list': array([{'title': 'Male mc QT/BG- Gran...  (4.0 / 5.0, 40 votes)   \n",
       "3  {'list': array([{'title': 'Beautiful reads [BG...   (2.8 / 5.0, 5 votes)   \n",
       "4  {'list': array([{'title': 'Really whipped olde...  (4.0 / 5.0, 64 votes)   \n",
       "\n",
       "   language                      authors  year  \\\n",
       "0   Chinese     ['Lan Bai Ge Zi' '蓝白格子']  2020   \n",
       "1  Japanese                ['Mako' 'まこ']  2020   \n",
       "2   Chinese                      ['甘米儿']  2018   \n",
       "3   Chinese                       ['左乐']  2019   \n",
       "4   Chinese  ['Bai Hu Qian Deng' '百户千灯']  2019   \n",
       "\n",
       "                                          status_coo weekly_rank monthly_rank  \\\n",
       "0  Complete (722 chapters; 506 main, rest side st...        #683         #513   \n",
       "1                              35 Chapters (Ongoing)       #2000        #2000   \n",
       "2                           603 Chapters (Completed)       #2000        #8032   \n",
       "3                             8 Chapters (Completed)       #2000        #2000   \n",
       "4      99 Main + 12 Extras\\n111 Chapters (Completed)       #1615        #1755   \n",
       "\n",
       "  all_time_rank monthly_rank_reading_list all_time_rank_reading_list  \\\n",
       "0        #11853                     #2628                     #12694   \n",
       "1        #15002                    #13957                     #13903   \n",
       "2         #4970                     #9052                      #6191   \n",
       "3        #14045                    #13211                     #14699   \n",
       "4         #3528                     #2126                      #3208   \n",
       "\n",
       "   total_reading_list_rank  \n",
       "0                      225  \n",
       "1                      151  \n",
       "2                     1096  \n",
       "3                      104  \n",
       "4                     2467  "
      ]
     },
     "execution_count": 6,
     "metadata": {},
     "output_type": "execute_result"
    }
   ],
   "source": [
    "df.head()"
   ]
  },
  {
   "cell_type": "code",
   "execution_count": 7,
   "id": "4959e1d2",
   "metadata": {
    "execution": {
     "iopub.execute_input": "2023-11-02T19:21:23.143519Z",
     "iopub.status.busy": "2023-11-02T19:21:23.142976Z",
     "iopub.status.idle": "2023-11-02T19:21:23.190094Z",
     "shell.execute_reply": "2023-11-02T19:21:23.188408Z"
    },
    "id": "0bxU64irxAaX",
    "outputId": "5f845ac4-3d63-4c8a-e005-a839c4324c7c",
    "papermill": {
     "duration": 0.062282,
     "end_time": "2023-11-02T19:21:23.193308",
     "exception": false,
     "start_time": "2023-11-02T19:21:23.131026",
     "status": "completed"
    },
    "tags": []
   },
   "outputs": [
    {
     "data": {
      "text/plain": [
       "novel_id                         0\n",
       "title                            0\n",
       "showtype                        70\n",
       "genres                           0\n",
       "tags                             0\n",
       "description                      4\n",
       "related_series                   0\n",
       "recommendations                  0\n",
       "recommendation_lists             0\n",
       "rating                           0\n",
       "language                         0\n",
       "authors                          0\n",
       "year                          1573\n",
       "status_coo                     416\n",
       "weekly_rank                      0\n",
       "monthly_rank                     0\n",
       "all_time_rank                    0\n",
       "monthly_rank_reading_list        0\n",
       "all_time_rank_reading_list       0\n",
       "total_reading_list_rank          0\n",
       "dtype: int64"
      ]
     },
     "execution_count": 7,
     "metadata": {},
     "output_type": "execute_result"
    }
   ],
   "source": [
    "# Fill missing language values with \"English\"\n",
    "df['language'] = df['language'].fillna('English')\n",
    "df.isnull().sum()"
   ]
  },
  {
   "cell_type": "code",
   "execution_count": null,
   "id": "de2d50c1",
   "metadata": {
    "id": "gWHVfpME7naG",
    "papermill": {
     "duration": 0.009649,
     "end_time": "2023-11-02T19:21:23.212621",
     "exception": false,
     "start_time": "2023-11-02T19:21:23.202972",
     "status": "completed"
    },
    "tags": []
   },
   "outputs": [],
   "source": []
  },
  {
   "cell_type": "code",
   "execution_count": 8,
   "id": "35e7ece2",
   "metadata": {
    "execution": {
     "iopub.execute_input": "2023-11-02T19:21:23.236403Z",
     "iopub.status.busy": "2023-11-02T19:21:23.235922Z",
     "iopub.status.idle": "2023-11-02T19:21:23.243765Z",
     "shell.execute_reply": "2023-11-02T19:21:23.242230Z"
    },
    "id": "H7QR7w-Tx2T6",
    "papermill": {
     "duration": 0.023598,
     "end_time": "2023-11-02T19:21:23.247039",
     "exception": false,
     "start_time": "2023-11-02T19:21:23.223441",
     "status": "completed"
    },
    "tags": []
   },
   "outputs": [],
   "source": [
    "def preprocess_text(text):\n",
    "    if isinstance(text, str):\n",
    "        # Example text preprocessing steps:\n",
    "        # 1. Convert to lowercase\n",
    "        text = text.lower()\n",
    "        # 2. Remove special characters\n",
    "        text = ''.join(e for e in text if (e.isalnum() or e.isspace()))\n",
    "    return text\n"
   ]
  },
  {
   "cell_type": "code",
   "execution_count": 9,
   "id": "13dbe365",
   "metadata": {
    "execution": {
     "iopub.execute_input": "2023-11-02T19:21:23.270072Z",
     "iopub.status.busy": "2023-11-02T19:21:23.269604Z",
     "iopub.status.idle": "2023-11-02T19:21:26.385529Z",
     "shell.execute_reply": "2023-11-02T19:21:26.383851Z"
    },
    "id": "O6b8iyaEy8br",
    "papermill": {
     "duration": 3.132025,
     "end_time": "2023-11-02T19:21:26.389078",
     "exception": false,
     "start_time": "2023-11-02T19:21:23.257053",
     "status": "completed"
    },
    "tags": []
   },
   "outputs": [],
   "source": [
    "# Apply text preprocessing to the 'description' column\n",
    "df['description'] = df['description'].apply(preprocess_text)\n",
    "\n",
    "# Save the preprocessed DataFrame to a new CSV file\n",
    "df.to_csv('preprocessed_novels.csv', index=False)\n",
    "\n",
    "\n",
    "\n"
   ]
  },
  {
   "cell_type": "code",
   "execution_count": 10,
   "id": "673692ab",
   "metadata": {
    "execution": {
     "iopub.execute_input": "2023-11-02T19:21:26.410881Z",
     "iopub.status.busy": "2023-11-02T19:21:26.410214Z",
     "iopub.status.idle": "2023-11-02T19:21:30.147957Z",
     "shell.execute_reply": "2023-11-02T19:21:30.146287Z"
    },
    "id": "ZSjmhjMCzLRL",
    "papermill": {
     "duration": 3.751919,
     "end_time": "2023-11-02T19:21:30.151130",
     "exception": false,
     "start_time": "2023-11-02T19:21:26.399211",
     "status": "completed"
    },
    "tags": []
   },
   "outputs": [],
   "source": [
    "from sklearn.feature_extraction.text import TfidfVectorizer\n",
    "from sklearn.metrics.pairwise import linear_kernel\n",
    "\n",
    "# Step 1: Create a TF-IDF vectorizer for text data (descriptions, genres, tags)\n",
    "tfidf_vectorizer = TfidfVectorizer(stop_words='english')\n",
    "\n",
    "# Define the text columns to include\n",
    "text_columns = ['title','description', 'genres','showtype', 'tags', 'related_series', 'language', 'authors']\n",
    "\n",
    "# Ensure these columns are treated as strings (text)\n",
    "df[text_columns] = df[text_columns].astype(str)\n",
    "\n",
    "# Combine text columns into one\n",
    "df['text_data'] = df[text_columns].apply(lambda x: ' '.join(x), axis=1)\n",
    "\n",
    "# Fit the TF-IDF vectorizer on the text data\n",
    "tfidf_matrix = tfidf_vectorizer.fit_transform(df['text_data'])\n"
   ]
  },
  {
   "cell_type": "code",
   "execution_count": 11,
   "id": "58b2aefb",
   "metadata": {
    "execution": {
     "iopub.execute_input": "2023-11-02T19:21:30.172495Z",
     "iopub.status.busy": "2023-11-02T19:21:30.172086Z",
     "iopub.status.idle": "2023-11-02T19:21:47.268077Z",
     "shell.execute_reply": "2023-11-02T19:21:47.265777Z"
    },
    "id": "wiXhqRha1WGF",
    "papermill": {
     "duration": 17.111055,
     "end_time": "2023-11-02T19:21:47.272364",
     "exception": false,
     "start_time": "2023-11-02T19:21:30.161309",
     "status": "completed"
    },
    "tags": []
   },
   "outputs": [],
   "source": [
    "# Step 2: Compute the cosine similarity between items (content-based filtering)\n",
    "cosine_sim = linear_kernel(tfidf_matrix, tfidf_matrix)\n"
   ]
  },
  {
   "cell_type": "code",
   "execution_count": 12,
   "id": "e7e4ecc4",
   "metadata": {
    "execution": {
     "iopub.execute_input": "2023-11-02T19:21:47.309474Z",
     "iopub.status.busy": "2023-11-02T19:21:47.308859Z",
     "iopub.status.idle": "2023-11-02T19:21:47.476162Z",
     "shell.execute_reply": "2023-11-02T19:21:47.474361Z"
    },
    "id": "QQteNELc1WZB",
    "papermill": {
     "duration": 0.194929,
     "end_time": "2023-11-02T19:21:47.479364",
     "exception": false,
     "start_time": "2023-11-02T19:21:47.284435",
     "status": "completed"
    },
    "tags": []
   },
   "outputs": [],
   "source": [
    "from fuzzywuzzy import fuzz, process\n",
    "\n",
    "def get_closest_match(title, df):\n",
    "    matched_title_tuple = process.extractOne(title, df['title'])\n",
    "\n",
    "    if matched_title_tuple and matched_title_tuple[1] >= 90:\n",
    "        return matched_title_tuple[0]\n",
    "\n",
    "    return None\n"
   ]
  },
  {
   "cell_type": "code",
   "execution_count": 13,
   "id": "39508b69",
   "metadata": {
    "execution": {
     "iopub.execute_input": "2023-11-02T19:21:47.501152Z",
     "iopub.status.busy": "2023-11-02T19:21:47.500732Z",
     "iopub.status.idle": "2023-11-02T19:21:47.510657Z",
     "shell.execute_reply": "2023-11-02T19:21:47.508707Z"
    },
    "papermill": {
     "duration": 0.025328,
     "end_time": "2023-11-02T19:21:47.514503",
     "exception": false,
     "start_time": "2023-11-02T19:21:47.489175",
     "status": "completed"
    },
    "tags": []
   },
   "outputs": [],
   "source": [
    "\n",
    "def get_recommendations(title, cosine_sim, df):\n",
    "    matched_title = get_closest_match(title, df)\n",
    "\n",
    "    if matched_title:\n",
    "        idx = df[df['title'] == matched_title].index[0]\n",
    "        sim_scores = list(enumerate(cosine_sim[idx]))\n",
    "        sim_scores = sorted(sim_scores, key=lambda x: x[1], reverse=True)\n",
    "        novel_indices = [i[0] for i in sim_scores][1:11]\n",
    "        return df['title'].iloc[novel_indices]\n",
    "\n",
    "    return \"No close match found.\"\n"
   ]
  },
  {
   "cell_type": "code",
   "execution_count": 14,
   "id": "5fd5a1e9",
   "metadata": {
    "execution": {
     "iopub.execute_input": "2023-11-02T19:21:47.538211Z",
     "iopub.status.busy": "2023-11-02T19:21:47.537514Z",
     "iopub.status.idle": "2023-11-02T19:21:49.365663Z",
     "shell.execute_reply": "2023-11-02T19:21:49.363793Z"
    },
    "id": "As-zf44kkyQl",
    "outputId": "0a3c8ffe-e075-4db4-9e1a-4137fa0ef251",
    "papermill": {
     "duration": 1.845588,
     "end_time": "2023-11-02T19:21:49.370224",
     "exception": false,
     "start_time": "2023-11-02T19:21:47.524636",
     "status": "completed"
    },
    "tags": []
   },
   "outputs": [
    {
     "name": "stdout",
     "output_type": "stream",
     "text": [
      "10792              I Am the Fated Villain\n",
      "2921                        Grasping Evil\n",
      "11155                        Sage Monarch\n",
      "1249                         Supreme Lord\n",
      "11096                Emperor’s Domination\n",
      "8601                      Omnipotent Sage\n",
      "8236              Carefree Path of Dreams\n",
      "10865                  Infinite Bloodcore\n",
      "1505     The Regressed Demon Lord is Kind\n",
      "9211            Worlds’ Apocalypse Online\n",
      "Name: title, dtype: object\n"
     ]
    }
   ],
   "source": [
    "# Example: Get recommendations for a novel\n",
    "recommended_novels = get_recommendations(\"Reverend Insanity\", cosine_sim, df)\n",
    "print(recommended_novels)\n"
   ]
  },
  {
   "cell_type": "code",
   "execution_count": null,
   "id": "8d3a20bc",
   "metadata": {
    "id": "mf-yc0pokyTE",
    "papermill": {
     "duration": 0.009035,
     "end_time": "2023-11-02T19:21:49.389315",
     "exception": false,
     "start_time": "2023-11-02T19:21:49.380280",
     "status": "completed"
    },
    "tags": []
   },
   "outputs": [],
   "source": []
  },
  {
   "cell_type": "code",
   "execution_count": null,
   "id": "b6684c38",
   "metadata": {
    "id": "I7nD1CBNkyoC",
    "outputId": "a6e2468b-54da-4b14-d130-7c01373940e0",
    "papermill": {
     "duration": 0.012305,
     "end_time": "2023-11-02T19:21:49.412299",
     "exception": false,
     "start_time": "2023-11-02T19:21:49.399994",
     "status": "completed"
    },
    "tags": []
   },
   "outputs": [],
   "source": [
    "\n",
    "\n",
    "\n",
    "\n",
    "\n",
    "\n",
    "\n"
   ]
  },
  {
   "cell_type": "code",
   "execution_count": null,
   "id": "b63a247c",
   "metadata": {
    "id": "Nt7bUS-a1WlR",
    "papermill": {
     "duration": 0.009322,
     "end_time": "2023-11-02T19:21:49.431358",
     "exception": false,
     "start_time": "2023-11-02T19:21:49.422036",
     "status": "completed"
    },
    "tags": []
   },
   "outputs": [],
   "source": [
    "\n",
    "\n"
   ]
  },
  {
   "cell_type": "code",
   "execution_count": null,
   "id": "e8ccc89e",
   "metadata": {
    "id": "naGGdRU1hVVK",
    "papermill": {
     "duration": 0.009245,
     "end_time": "2023-11-02T19:21:49.450406",
     "exception": false,
     "start_time": "2023-11-02T19:21:49.441161",
     "status": "completed"
    },
    "tags": []
   },
   "outputs": [],
   "source": []
  },
  {
   "cell_type": "code",
   "execution_count": null,
   "id": "49189c22",
   "metadata": {
    "id": "1BALmTbUhVmm",
    "papermill": {
     "duration": 0.009179,
     "end_time": "2023-11-02T19:21:49.470030",
     "exception": false,
     "start_time": "2023-11-02T19:21:49.460851",
     "status": "completed"
    },
    "tags": []
   },
   "outputs": [],
   "source": []
  },
  {
   "cell_type": "code",
   "execution_count": null,
   "id": "2631c59c",
   "metadata": {
    "id": "Cg0aoLNQ2kqK",
    "papermill": {
     "duration": 0.009891,
     "end_time": "2023-11-02T19:21:49.490115",
     "exception": false,
     "start_time": "2023-11-02T19:21:49.480224",
     "status": "completed"
    },
    "tags": []
   },
   "outputs": [],
   "source": []
  },
  {
   "cell_type": "code",
   "execution_count": 15,
   "id": "6393e480",
   "metadata": {
    "execution": {
     "iopub.execute_input": "2023-11-02T19:21:49.512336Z",
     "iopub.status.busy": "2023-11-02T19:21:49.511923Z",
     "iopub.status.idle": "2023-11-02T19:22:27.502482Z",
     "shell.execute_reply": "2023-11-02T19:22:27.500862Z"
    },
    "id": "IwAngdnyhWXs",
    "papermill": {
     "duration": 38.005936,
     "end_time": "2023-11-02T19:22:27.506178",
     "exception": false,
     "start_time": "2023-11-02T19:21:49.500242",
     "status": "completed"
    },
    "tags": []
   },
   "outputs": [
    {
     "name": "stdout",
     "output_type": "stream",
     "text": [
      "Requirement already satisfied: fuzzywuzzy in /opt/conda/lib/python3.10/site-packages (0.18.0)\r\n"
     ]
    }
   ],
   "source": [
    "!pip install fuzzywuzzy"
   ]
  },
  {
   "cell_type": "code",
   "execution_count": null,
   "id": "13d628f2",
   "metadata": {
    "id": "8vOCAcJXhZXL",
    "papermill": {
     "duration": 0.009069,
     "end_time": "2023-11-02T19:22:27.525205",
     "exception": false,
     "start_time": "2023-11-02T19:22:27.516136",
     "status": "completed"
    },
    "tags": []
   },
   "outputs": [],
   "source": []
  }
 ],
 "metadata": {
  "kernelspec": {
   "display_name": "Python 3",
   "language": "python",
   "name": "python3"
  },
  "language_info": {
   "codemirror_mode": {
    "name": "ipython",
    "version": 3
   },
   "file_extension": ".py",
   "mimetype": "text/x-python",
   "name": "python",
   "nbconvert_exporter": "python",
   "pygments_lexer": "ipython3",
   "version": "3.10.12"
  },
  "papermill": {
   "default_parameters": {},
   "duration": 76.610981,
   "end_time": "2023-11-02T19:22:28.763070",
   "environment_variables": {},
   "exception": null,
   "input_path": "__notebook__.ipynb",
   "output_path": "__notebook__.ipynb",
   "parameters": {},
   "start_time": "2023-11-02T19:21:12.152089",
   "version": "2.4.0"
  }
 },
 "nbformat": 4,
 "nbformat_minor": 5
}
